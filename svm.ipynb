{
 "cells": [
  {
   "cell_type": "markdown",
   "metadata": {},
   "source": [
    "Copyright (c) 2020 [Qadeer Aziz](qadeerahh@gmail.com)\n",
    "\n",
    "https://github.com/kadeeraziz/pashtotagger\n",
    "\n",
    "[MIT License](https://github.com/kadeeraziz/pashtopos/master/LICENSE.txt)"
   ]
  },
  {
   "cell_type": "markdown",
   "metadata": {},
   "source": [
    "Note that the optional watermark extension is a small IPython notebook plugin that developed by [Sebastian Raschka](https://sebastianraschka.com)(https://github.com/rasbt/watermark) for printing date and time stamps, version numbers, and hardware information. You can just skip the following line(s)."
   ]
  },
  {
   "cell_type": "code",
   "execution_count": 43,
   "metadata": {},
   "outputs": [
    {
     "name": "stdout",
     "output_type": "stream",
     "text": [
      "The watermark extension is already loaded. To reload it, use:\n",
      "  %reload_ext watermark\n",
      "Author: Qadeer Ah. Aziz\n",
      "\n",
      "Last updated: 2020-12-09\n",
      "\n",
      "Python implementation: CPython\n",
      "Python version       : 3.8.4\n",
      "IPython version      : 7.16.1\n",
      "\n",
      "numpy : 1.19.0\n",
      "pandas: 1.0.5\n",
      "\n",
      "Compiler    : GCC 7.5.0\n",
      "OS          : Linux\n",
      "Release     : 5.4.39-linuxkit\n",
      "Machine     : x86_64\n",
      "Processor   : x86_64\n",
      "CPU cores   : 4\n",
      "Architecture: 64bit\n",
      "\n"
     ]
    }
   ],
   "source": [
    "%load_ext watermark\n",
    "%watermark -a \"Qadeer Ah. Aziz\" -v -m -u -d -p numpy,pandas"
   ]
  },
  {
   "cell_type": "markdown",
   "metadata": {},
   "source": [
    "### Support Vector Machines: Fit and evaluate the Tagger [sklearn.svm.SVC](https://scikitlearn.org/stable/modules/generated/sklearn.svm.SVC.html)\n",
    "\n",
    "In this notebook, we will fit and evaluate the Support Vector Machines tagger.\n",
    "\n",
    "### Overview\n",
    "\n",
    "- [Loading required packages](#Loading-required-packages)\n",
    "- [Read the corpus](#Read-the-corpus)\n",
    "- [Spliting the data into three different sets](#Spliting-the-data-into-three-different-sets)\n",
    "- [Feature extraction](#Feature-extraction)`\n",
    "- [Fitting 5-fold cross validation](#Fitting-5-fold-cross-validation)\n",
    "- [Saving the best model](#Saving-the-best-model)\n",
    "- [Testing the best model (cross validated) on validation set](#Testing-the-best-model-(cross-validated)-on-validation-set)\n",
    "- [Classification report](#Classification-report)"
   ]
  },
  {
   "cell_type": "markdown",
   "metadata": {},
   "source": [
    "### Loading required packages"
   ]
  },
  {
   "cell_type": "code",
   "execution_count": 68,
   "metadata": {},
   "outputs": [],
   "source": [
    "import pandas as pd\n",
    "import numpy as np\n",
    "from sklearn.svm import SVC\n",
    "from sklearn.feature_extraction import DictVectorizer\n",
    "from sklearn.model_selection import GridSearchCV\n",
    "import seaborn as sns\n",
    "import pandas as pd\n",
    "import matplotlib.pyplot as plt\n",
    "from sklearn.preprocessing import label_binarize\n",
    "import joblib\n",
    "import warnings\n",
    "from time import time\n",
    "\n",
    "from sklearn.metrics import make_scorer\n",
    "\n",
    "from sklearn.metrics import accuracy_score, precision_score, recall_score, f1_score\n",
    "from sklearn.metrics import classification_report\n",
    "warnings.filterwarnings('ignore', category=FutureWarning)\n",
    "warnings.filterwarnings('ignore', category=DeprecationWarning)"
   ]
  },
  {
   "cell_type": "markdown",
   "metadata": {},
   "source": [
    "### Read the corpus"
   ]
  },
  {
   "cell_type": "code",
   "execution_count": 69,
   "metadata": {},
   "outputs": [
    {
     "data": {
      "text/html": [
       "<div>\n",
       "<style scoped>\n",
       "    .dataframe tbody tr th:only-of-type {\n",
       "        vertical-align: middle;\n",
       "    }\n",
       "\n",
       "    .dataframe tbody tr th {\n",
       "        vertical-align: top;\n",
       "    }\n",
       "\n",
       "    .dataframe thead th {\n",
       "        text-align: right;\n",
       "    }\n",
       "</style>\n",
       "<table border=\"1\" class=\"dataframe\">\n",
       "  <thead>\n",
       "    <tr style=\"text-align: right;\">\n",
       "      <th></th>\n",
       "      <th>token</th>\n",
       "      <th>tag</th>\n",
       "      <th>pos</th>\n",
       "    </tr>\n",
       "  </thead>\n",
       "  <tbody>\n",
       "    <tr>\n",
       "      <th>0</th>\n",
       "      <td>امریکایي</td>\n",
       "      <td>ADJ</td>\n",
       "      <td>adjective</td>\n",
       "    </tr>\n",
       "    <tr>\n",
       "      <th>1</th>\n",
       "      <td>فضانوردې</td>\n",
       "      <td>NOUN</td>\n",
       "      <td>noun</td>\n",
       "    </tr>\n",
       "    <tr>\n",
       "      <th>2</th>\n",
       "      <td>کریستینا کوچ</td>\n",
       "      <td>NOUN</td>\n",
       "      <td>noun</td>\n",
       "    </tr>\n",
       "    <tr>\n",
       "      <th>3</th>\n",
       "      <td>،</td>\n",
       "      <td>PUNCT</td>\n",
       "      <td>punctuation</td>\n",
       "    </tr>\n",
       "    <tr>\n",
       "      <th>4</th>\n",
       "      <td>په</td>\n",
       "      <td>PRT</td>\n",
       "      <td>particle</td>\n",
       "    </tr>\n",
       "  </tbody>\n",
       "</table>\n",
       "</div>"
      ],
      "text/plain": [
       "          token    tag          pos\n",
       "0      امریکایي    ADJ    adjective\n",
       "1      فضانوردې   NOUN         noun\n",
       "2  کریستینا کوچ   NOUN         noun\n",
       "3             ،  PUNCT  punctuation\n",
       "4            په    PRT     particle"
      ]
     },
     "execution_count": 69,
     "metadata": {},
     "output_type": "execute_result"
    }
   ],
   "source": [
    "corpus = pd.read_excel('corpus.xlsx')\n",
    "corpus.head()"
   ]
  },
  {
   "cell_type": "code",
   "execution_count": 70,
   "metadata": {},
   "outputs": [],
   "source": [
    "sents = []\n",
    "sent=[]\n",
    "for i, token, tag, pos in corpus.itertuples():\n",
    "    sent.append((token, tag))\n",
    "    if (token == '.'):\n",
    "        sents.append(sent)\n",
    "        sent = []\n",
    "        continue"
   ]
  },
  {
   "cell_type": "code",
   "execution_count": 71,
   "metadata": {},
   "outputs": [
    {
     "name": "stdout",
     "output_type": "stream",
     "text": [
      "Number of words in the corpus: 41928\n",
      "Number of sentences in the corpus: 1219\n"
     ]
    }
   ],
   "source": [
    "print('Number of words in the corpus: {}'.format(len(corpus['token'])))\n",
    "print('Number of sentences in the corpus: {}'.format(len(sents)))"
   ]
  },
  {
   "cell_type": "markdown",
   "metadata": {},
   "source": [
    "### Feature extraction "
   ]
  },
  {
   "cell_type": "code",
   "execution_count": 72,
   "metadata": {},
   "outputs": [],
   "source": [
    "def extract_features(token, index, sent):\n",
    "    \"\"\"Extract features of given word(token)\"\"\"\n",
    "    return {    \n",
    "        'token'             : token,                                   \n",
    "        'is_first'          : index == 0,                         \n",
    "        'is_last'           : index == len(sent)-1,              \n",
    "                        \n",
    "\n",
    "        'prefix-1'          : token[0],                                 \n",
    "        'prefix-2'          : '' if len(token) < 2  else token[:1],     \n",
    "        'prefix-3'          : '' if len(token) < 3  else token[:2],\n",
    "        \n",
    "        \n",
    "        'suffix-1'          : token[-1],                                \n",
    "        'suffix-2'          : '' if len(token) < 2  else token[-2:],\n",
    "        'suffix-3'          : '' if len(token) < 3  else token[-3:],\n",
    "        \n",
    "\n",
    "        'prev-token'        : '' if index == 0     else sent[index - 1][0],     \n",
    "        '2-prev-token'      : '' if index <= 1     else sent[index - 2][0],     \n",
    "\n",
    "        'next-token'        : '' if index == len(sent) - 1     else sent[index + 1][0],     \n",
    "        '2-next-token'      : '' if index >= len(sent) - 2     else sent[index + 2][0],\n",
    "        \n",
    "        'has_hyphen': '-' in sent[index],\n",
    "        'is_numeric': token.isdigit(),\n",
    "        }"
   ]
  },
  {
   "cell_type": "code",
   "execution_count": 73,
   "metadata": {},
   "outputs": [],
   "source": [
    "def transform_to_dataset(tagged_sentences):\n",
    "  X, y = [], []\n",
    "  for sent in tagged_sentences:\n",
    "\n",
    "    for index, tokens in enumerate(sent):\n",
    "        token = tokens[0]\n",
    "        X.append(extract_features(token, index, sent))\n",
    "        tags = tokens[1]\n",
    "        y.append(tags)\n",
    "        \n",
    "  return X, y"
   ]
  },
  {
   "cell_type": "markdown",
   "metadata": {},
   "source": [
    "### Spliting the data into three different sets"
   ]
  },
  {
   "cell_type": "code",
   "execution_count": 74,
   "metadata": {},
   "outputs": [],
   "source": [
    "train_size = int(0.6*len(sents))\n",
    "train = sents[:train_size]\n",
    "testing = sents[train_size:]\n",
    "test_size = int(0.5*len(testing))\n",
    "test = testing[:test_size]\n",
    "val = testing[test_size:]"
   ]
  },
  {
   "cell_type": "code",
   "execution_count": 75,
   "metadata": {},
   "outputs": [],
   "source": [
    "X_train, y_train = transform_to_dataset(train)\n",
    "X_test, y_test = transform_to_dataset(test)\n",
    "X_val, y_val = transform_to_dataset(val)"
   ]
  },
  {
   "cell_type": "markdown",
   "metadata": {},
   "source": [
    "### Victorization"
   ]
  },
  {
   "cell_type": "code",
   "execution_count": 76,
   "metadata": {},
   "outputs": [],
   "source": [
    "vectorizer = DictVectorizer()  \n",
    "#vectorizer.fit(X_train)                                    # Train vectorizer\n",
    "X_train_vectorized = vectorizer.fit_transform(X_train)  \n",
    "X_val_vectorized = vectorizer.transform(X_val) \n",
    "X_test_vectorized = vectorizer.transform(X_test) "
   ]
  },
  {
   "cell_type": "code",
   "execution_count": 77,
   "metadata": {},
   "outputs": [],
   "source": [
    "def print_results(results):\n",
    "    print('BEST PARAMS: {}\\n'.format(results.best_params_))\n",
    "\n",
    "    means = results.cv_results_['mean_test_score']\n",
    "    stds = results.cv_results_['std_test_score']\n",
    "    for mean, std, params in zip(means, stds, results.cv_results_['params']):\n",
    "        print('{} (+/-{}) for {}'.format(round(mean, 4), round(std * 2, 4), params))"
   ]
  },
  {
   "cell_type": "code",
   "execution_count": 78,
   "metadata": {},
   "outputs": [],
   "source": [
    "labels = corpus['tag'].unique()\n",
    "f1_scorer = make_scorer(f1_score,\n",
    "                        average='macro', labels=labels)"
   ]
  },
  {
   "cell_type": "markdown",
   "metadata": {},
   "source": [
    "### Fitting 5-fold cross validation"
   ]
  },
  {
   "cell_type": "code",
   "execution_count": 79,
   "metadata": {},
   "outputs": [
    {
     "name": "stdout",
     "output_type": "stream",
     "text": [
      "BEST PARAMS: {'C': 1, 'kernel': 'linear'}\n",
      "\n",
      "0.9044 (+/-0.0499) for {'C': 0.1, 'kernel': 'linear'}\n",
      "0.6098 (+/-0.0274) for {'C': 0.1, 'kernel': 'rbf'}\n",
      "0.94 (+/-0.0612) for {'C': 1, 'kernel': 'linear'}\n",
      "0.8928 (+/-0.0633) for {'C': 1, 'kernel': 'rbf'}\n",
      "0.9391 (+/-0.0601) for {'C': 10, 'kernel': 'linear'}\n",
      "0.9236 (+/-0.0656) for {'C': 10, 'kernel': 'rbf'}\n"
     ]
    }
   ],
   "source": [
    "svc = SVC()\n",
    "parameters = {\n",
    "    'kernel': ['linear', 'rbf'],\n",
    "    'C': [0.1, 1, 10]\n",
    "}\n",
    "\n",
    "\n",
    "cv = GridSearchCV(svc,\n",
    "                  parameters,\n",
    "                  cv=5,\n",
    "                  n_jobs=-1,\n",
    "                  scoring=f1_scorer)\n",
    "cv.fit(X_train_vectorized, y_train)\n",
    "print_results(cv)"
   ]
  },
  {
   "cell_type": "markdown",
   "metadata": {},
   "source": [
    "### Saving the best model"
   ]
  },
  {
   "cell_type": "code",
   "execution_count": 1,
   "metadata": {},
   "outputs": [
    {
     "ename": "NameError",
     "evalue": "name 'cv' is not defined",
     "output_type": "error",
     "traceback": [
      "\u001b[0;31m---------------------------------------------------------------------------\u001b[0m",
      "\u001b[0;31mNameError\u001b[0m                                 Traceback (most recent call last)",
      "\u001b[0;32m<ipython-input-1-799031c43c70>\u001b[0m in \u001b[0;36m<module>\u001b[0;34m\u001b[0m\n\u001b[0;32m----> 1\u001b[0;31m \u001b[0mprint\u001b[0m\u001b[0;34m(\u001b[0m\u001b[0mcv\u001b[0m\u001b[0;34m.\u001b[0m\u001b[0mcv_result_\u001b[0m\u001b[0;34m)\u001b[0m\u001b[0;34m\u001b[0m\u001b[0;34m\u001b[0m\u001b[0m\n\u001b[0m",
      "\u001b[0;31mNameError\u001b[0m: name 'cv' is not defined"
     ]
    }
   ],
   "source": [
    "print(cv.cv_result_)"
   ]
  },
  {
   "cell_type": "code",
   "execution_count": 80,
   "metadata": {},
   "outputs": [
    {
     "data": {
      "text/plain": [
       "['./models/svm_model.pkl']"
      ]
     },
     "execution_count": 80,
     "metadata": {},
     "output_type": "execute_result"
    }
   ],
   "source": [
    "joblib.dump(cv.best_estimator_, './models/svm_model.pkl')"
   ]
  },
  {
   "cell_type": "markdown",
   "metadata": {},
   "source": [
    "### Testing the best model (cross validated) on validation set"
   ]
  },
  {
   "cell_type": "code",
   "execution_count": 81,
   "metadata": {},
   "outputs": [],
   "source": [
    "svm_model = joblib.load('./models/svm_model.pkl')"
   ]
  },
  {
   "cell_type": "code",
   "execution_count": 82,
   "metadata": {},
   "outputs": [],
   "source": [
    "start = time()\n",
    "pred_val = svm_model.predict(X_val_vectorized)\n",
    "end = time()"
   ]
  },
  {
   "cell_type": "code",
   "execution_count": 83,
   "metadata": {},
   "outputs": [],
   "source": [
    "accuracy = round(accuracy_score(y_val, pred_val), 4)\n",
    "precision = round(precision_score(y_val, pred_val, average='macro'), 4)\n",
    "recall = round(recall_score(y_val, pred_val, average='macro'), 4)\n",
    "f1score = round(f1_score(y_val, pred_val, average='macro'), 4)"
   ]
  },
  {
   "cell_type": "code",
   "execution_count": 84,
   "metadata": {},
   "outputs": [
    {
     "name": "stdout",
     "output_type": "stream",
     "text": [
      "Accuracy: 0.9461 \n",
      "F1-score: 0.9454 \n",
      "Precision: 0.9616 \n",
      "Recall: 0.9331 \n",
      "Latency: 11562.1ms\n"
     ]
    }
   ],
   "source": [
    "print('Accuracy: {} '.format(accuracy))\n",
    "print('F1-score: {} '.format(f1score))\n",
    "print('Precision: {} '.format(precision))\n",
    "print('Recall: {} '.format(recall))\n",
    "print('Latency: {}ms'.format(round((end - start)*1000, 1)))"
   ]
  },
  {
   "cell_type": "code",
   "execution_count": 85,
   "metadata": {},
   "outputs": [],
   "source": [
    "#print(classification_report(y_val, pred_val, target_names=corpus['tag'].unique()))\n",
    "clf_report = classification_report(y_val, \n",
    "                                   pred_val, \n",
    "                                   target_names=sorted(corpus['tag'].unique()),\n",
    "                                   labels=corpus['tag'].unique(),\n",
    "                                   output_dict=True)"
   ]
  },
  {
   "cell_type": "code",
   "execution_count": 86,
   "metadata": {},
   "outputs": [],
   "source": [
    "from sklearn import metrics"
   ]
  },
  {
   "cell_type": "code",
   "execution_count": 30,
   "metadata": {},
   "outputs": [
    {
     "data": {
      "image/png": "[encoded data removed]",
      "text/plain": [
       "<Figure size 432x288 with 2 Axes>"
      ]
     },
     "metadata": {
      "needs_background": "light"
     },
     "output_type": "display_data"
    }
   ],
   "source": [
    "disp = metrics.plot_confusion_matrix(best_cv_model, X_val_vectorized, y_val, normalize='pred')"
   ]
  },
  {
   "cell_type": "code",
   "execution_count": 87,
   "metadata": {},
   "outputs": [
    {
     "data": {
      "text/plain": [
       "<Figure size 432x288 with 0 Axes>"
      ]
     },
     "metadata": {},
     "output_type": "display_data"
    }
   ],
   "source": [
    "sns.set('paper', 'white',\n",
    "        rc={'font.size': 10, 'axes.labelsize': 10,\n",
    "            'legend.fontsize': 10, 'axes.titlesize': 10,\n",
    "            'xtick.labelsize': 10,'ytick.labelsize': 10, \n",
    "            \"pgf.rcfonts\": True,\n",
    "           })\n",
    "plt.rc('font', **{'family': 'serif', 'serif': ['Times']})\n",
    "plt.tight_layout()\n",
    "plt.gcf().subplots_adjust(bottom=0.15)\n",
    "from matplotlib import rcParams\n",
    "rcParams.update({'figure.autolayout': True})"
   ]
  },
  {
   "cell_type": "code",
   "execution_count": 88,
   "metadata": {},
   "outputs": [
    {
     "data": {
      "image/png": "[encoded data removed]",
      "text/plain": [
       "<Figure size 360x288 with 2 Axes>"
      ]
     },
     "metadata": {},
     "output_type": "display_data"
    }
   ],
   "source": [
    "plt.figure(figsize=(5, 4))\n",
    "fig = sns.heatmap(pd.DataFrame(clf_report).iloc[:-1, :].T,\n",
    "                  annot=True, annot_kws={'size': 10},\n",
    "                  cbar=1,\n",
    "                  linewidths=0,\n",
    "                  linecolor='white',\n",
    "                  cmap=\"YlGnBu\"\n",
    "                  )\n"
   ]
  },
  {
   "cell_type": "code",
   "execution_count": 42,
   "metadata": {},
   "outputs": [],
   "source": [
    "f = fig.get_figure()\n",
    "f.autolayout : True\n",
    "f.savefig('svm_matrix1.png', dpi=400)"
   ]
  },
  {
   "cell_type": "code",
   "execution_count": 89,
   "metadata": {},
   "outputs": [],
   "source": [
    "from sklearn.metrics import confusion_matrix\n",
    "from cf_matrix import make_confusion_matrix\n",
    "categories = sorted(corpus['tag'].unique())\n",
    "confusion_matrix = confusion_matrix(y_val, pred_val, normalize='true', labels=categories)"
   ]
  },
  {
   "cell_type": "code",
   "execution_count": 63,
   "metadata": {},
   "outputs": [],
   "source": [
    "vminn = np.min(confusion_matrix)\n",
    "vmaxx = np.max(confusion_matrix)"
   ]
  },
  {
   "cell_type": "code",
   "execution_count": 90,
   "metadata": {},
   "outputs": [
    {
     "data": {
      "text/plain": [
       "Text(0.5, 6.799999999999994, 'Predicted')"
      ]
     },
     "execution_count": 90,
     "metadata": {},
     "output_type": "execute_result"
    },
    {
     "data": {
      "image/png": "[encoded data removed]",
      "text/plain": [
       "<Figure size 432x360 with 2 Axes>"
      ]
     },
     "metadata": {},
     "output_type": "display_data"
    }
   ],
   "source": [
    "plt.figure(figsize=(6, 5))\n",
    "fig = sns.heatmap(confusion_matrix,\n",
    "                  annot=False, annot_kws={'size': 10},\n",
    "                  vmax=vmaxx,\n",
    "                  vmin=vminn,\n",
    "                  cbar=True,\n",
    "                  linewidths=0,\n",
    "                  linecolor='white',\n",
    "                  cmap=\"YlGnBu\",\n",
    "                  #fmt='',\n",
    "                  xticklabels=categories,\n",
    "                  yticklabels=categories,\n",
    "                  #cbar_kws={'ticks':[]}\n",
    "                  )\n",
    "plt.ylabel('True')\n",
    "plt.xlabel('Predicted')\n",
    "\n",
    "#cbar = fig.collections[0].colorbar\n",
    "#cbar.set_ticks([0, .2, .4, .6, .8, 1])\n",
    "#cbar.set_ticklabels(['0.0', '0.2', '0.4', '0.6', '0.8', '1.0'])\n"
   ]
  },
  {
   "cell_type": "code",
   "execution_count": 65,
   "metadata": {},
   "outputs": [],
   "source": [
    "f = fig.get_figure()\n",
    "f.autolayout : True\n",
    "f.savefig('svm_matrix2.png', dpi=400)"
   ]
  },
  {
   "cell_type": "code",
   "execution_count": null,
   "metadata": {},
   "outputs": [],
   "source": []
  },
  {
   "cell_type": "code",
   "execution_count": null,
   "metadata": {},
   "outputs": [],
   "source": []
  }
 ],
 "metadata": {
  "kernelspec": {
   "display_name": "Python 3",
   "language": "python",
   "name": "python3"
  },
  "language_info": {
   "codemirror_mode": {
    "name": "ipython",
    "version": 3
   },
   "file_extension": ".py",
   "mimetype": "text/x-python",
   "name": "python",
   "nbconvert_exporter": "python",
   "pygments_lexer": "ipython3",
   "version": "3.8.4"
  }
 },
 "nbformat": 4,
 "nbformat_minor": 4
}
