{
 "cells": [
  {
   "cell_type": "markdown",
   "metadata": {},
   "source": [
    "### Conditional random field: Fit and evaluate the Tagger [sklearn-crfsuite](https://sklearn-crfsuite.readthedocs.io/en/latest/)\n",
    "\n",
    "In this notebook, we will fit and evaluate the Conditional random field tagger.\n",
    "\n",
    "### Overview\n",
    "\n",
    "- [Loading required packages](#Loading-required-packages)\n",
    "- [Read the corpus](#Read-the-corpus)\n",
    "- [Spliting the data into three different sets](#Spliting-the-data-into-three-different-sets)\n",
    "- [Feature extraction](#Feature-extraction)`"
   ]
  },
  {
   "cell_type": "code",
   "execution_count": 1,
   "metadata": {},
   "outputs": [],
   "source": [
    "import pandas as pd\n",
    "import numpy as np\n",
    "from sklearn.feature_extraction import DictVectorizer\n",
    "from sklearn.model_selection import GridSearchCV\n",
    "from sklearn_crfsuite import CRF\n",
    "import scipy\n",
    "import scipy.stats\n",
    "from sklearn.metrics import make_scorer\n",
    "from sklearn_crfsuite import scorers\n",
    "from sklearn_crfsuite import metrics\n",
    "from sklearn.metrics import accuracy_score, precision_score, recall_score, f1_score\n",
    "import joblib\n",
    "import warnings\n",
    "\n",
    "import seaborn as sns\n",
    "import pandas as pd\n",
    "import matplotlib.pyplot as plt\n",
    "\n",
    "\n",
    "import re\n",
    "from time import time\n",
    "warnings.filterwarnings('ignore', category=FutureWarning)\n",
    "warnings.filterwarnings('ignore', category=DeprecationWarning)"
   ]
  },
  {
   "cell_type": "code",
   "execution_count": 2,
   "metadata": {},
   "outputs": [
    {
     "data": {
      "text/html": [
       "<div>\n",
       "<style scoped>\n",
       "    .dataframe tbody tr th:only-of-type {\n",
       "        vertical-align: middle;\n",
       "    }\n",
       "\n",
       "    .dataframe tbody tr th {\n",
       "        vertical-align: top;\n",
       "    }\n",
       "\n",
       "    .dataframe thead th {\n",
       "        text-align: right;\n",
       "    }\n",
       "</style>\n",
       "<table border=\"1\" class=\"dataframe\">\n",
       "  <thead>\n",
       "    <tr style=\"text-align: right;\">\n",
       "      <th></th>\n",
       "      <th>token</th>\n",
       "      <th>tag</th>\n",
       "      <th>pos</th>\n",
       "    </tr>\n",
       "  </thead>\n",
       "  <tbody>\n",
       "    <tr>\n",
       "      <th>0</th>\n",
       "      <td>امریکایي</td>\n",
       "      <td>ADJ</td>\n",
       "      <td>adjective</td>\n",
       "    </tr>\n",
       "    <tr>\n",
       "      <th>1</th>\n",
       "      <td>فضانوردې</td>\n",
       "      <td>NOUN</td>\n",
       "      <td>noun</td>\n",
       "    </tr>\n",
       "    <tr>\n",
       "      <th>2</th>\n",
       "      <td>کریستینا کوچ</td>\n",
       "      <td>NOUN</td>\n",
       "      <td>noun</td>\n",
       "    </tr>\n",
       "    <tr>\n",
       "      <th>3</th>\n",
       "      <td>،</td>\n",
       "      <td>PUNCT</td>\n",
       "      <td>punctuation</td>\n",
       "    </tr>\n",
       "    <tr>\n",
       "      <th>4</th>\n",
       "      <td>په</td>\n",
       "      <td>PRT</td>\n",
       "      <td>particle</td>\n",
       "    </tr>\n",
       "  </tbody>\n",
       "</table>\n",
       "</div>"
      ],
      "text/plain": [
       "          token    tag          pos\n",
       "0      امریکایي    ADJ    adjective\n",
       "1      فضانوردې   NOUN         noun\n",
       "2  کریستینا کوچ   NOUN         noun\n",
       "3             ،  PUNCT  punctuation\n",
       "4            په    PRT     particle"
      ]
     },
     "execution_count": 2,
     "metadata": {},
     "output_type": "execute_result"
    }
   ],
   "source": [
    "corpus = pd.read_excel('corpus.xlsx')\n",
    "corpus.head()"
   ]
  },
  {
   "cell_type": "code",
   "execution_count": 3,
   "metadata": {},
   "outputs": [],
   "source": [
    "tokens = []\n",
    "tags = []\n",
    "sents = []\n",
    "for i, token, tag, pos in corpus.itertuples():\n",
    "    tokens.append(token)\n",
    "    tags.append(tag)\n",
    "    if (token == '.'):\n",
    "        sents.append((tokens, tags))\n",
    "        tokens = []\n",
    "        tags = []\n",
    "        continue"
   ]
  },
  {
   "cell_type": "code",
   "execution_count": 4,
   "metadata": {},
   "outputs": [
    {
     "name": "stdout",
     "output_type": "stream",
     "text": [
      "Number of words in the corpus: 41928\n",
      "Number of sentences in the corpus: 1219\n"
     ]
    }
   ],
   "source": [
    "print('Number of words in the corpus: {}'.format(len(corpus['token'])))\n",
    "print('Number of sentences in the corpus: {}'.format(len(sents)))"
   ]
  },
  {
   "cell_type": "markdown",
   "metadata": {},
   "source": [
    "### Feature extraction "
   ]
  },
  {
   "cell_type": "code",
   "execution_count": 5,
   "metadata": {},
   "outputs": [],
   "source": [
    "def extract_features(sentence, index):\n",
    "  \"\"\"Extract features of given word(token)\"\"\"\n",
    "  return {\n",
    "      'token':sentence[index],\n",
    "      'is_first':index==0,\n",
    "      'is_last':index ==len(sentence)-1,\n",
    "  \n",
    "      'prefix-1':sentence[index][0],\n",
    "      'prefix-2':sentence[index][:2],\n",
    "      'prefix-3':sentence[index][:3],\n",
    "      'prefix-3':sentence[index][:4],\n",
    "      'suffix-1':sentence[index][-1],\n",
    "      'suffix-2':sentence[index][-2:],\n",
    "      'suffix-3':sentence[index][-3:],\n",
    "      'suffix-3':sentence[index][-4:],\n",
    "      \n",
    "      'prev_word':'' if index == 0 else sentence[index-1],\n",
    "      '2-prev-token': '' if index <= 1     else sentence[index - 2],\n",
    "      \n",
    "      \n",
    "      'next_word':'' if index == len(sentence) - 1     else sentence[index + 1],\n",
    "      '2-next-token': '' if index >= len(sentence) - 2     else sentence[index + 2],\n",
    "      \n",
    "      'has_hyphen': '-' in sentence[index],\n",
    "      'is_numeric': sentence[index].isdigit(),\n",
    "\n",
    "  }"
   ]
  },
  {
   "cell_type": "code",
   "execution_count": 6,
   "metadata": {},
   "outputs": [],
   "source": [
    "def transform_to_dataset(tagged_sentences):\n",
    "  X, y = [], []\n",
    "  for sentence, tags in tagged_sentences:\n",
    "\n",
    "    sent_word_features, sent_tags = [],[]\n",
    "    for index in range(len(sentence)):\n",
    "        sent_word_features.append(extract_features(sentence, index)),\n",
    "        sent_tags.append(tags[index])\n",
    "    X.append(sent_word_features)\n",
    "    y.append(sent_tags)\n",
    "  return X, y"
   ]
  },
  {
   "cell_type": "code",
   "execution_count": 7,
   "metadata": {},
   "outputs": [],
   "source": [
    "train_size = int(0.6*len(sents))\n",
    "train = sents[:train_size]\n",
    "testing = sents[train_size:]\n",
    "test_size = int(0.5*len(testing))\n",
    "test = testing[:test_size]\n",
    "val = testing[test_size:]"
   ]
  },
  {
   "cell_type": "code",
   "execution_count": 8,
   "metadata": {},
   "outputs": [],
   "source": [
    "X_train, y_train = transform_to_dataset(train)\n",
    "X_test, y_test = transform_to_dataset(test)\n",
    "X_val, y_val = transform_to_dataset(val)"
   ]
  },
  {
   "cell_type": "code",
   "execution_count": 9,
   "metadata": {},
   "outputs": [],
   "source": [
    "crf = CRF(\n",
    "    #max_iterations=100,\n",
    "    all_possible_transitions=True,\n",
    "    algorithm = 'lbfgs',\n",
    "    max_iterations = 150\n",
    ")"
   ]
  },
  {
   "cell_type": "code",
   "execution_count": 10,
   "metadata": {},
   "outputs": [],
   "source": [
    "parameters = {\n",
    "    'c1': [0.01, 0.1, 0],\n",
    "    'c2': [0.01, 0.2, 1],\n",
    "}"
   ]
  },
  {
   "cell_type": "code",
   "execution_count": 11,
   "metadata": {},
   "outputs": [],
   "source": [
    "labels = corpus['tag'].unique()\n"
   ]
  },
  {
   "cell_type": "code",
   "execution_count": 12,
   "metadata": {},
   "outputs": [],
   "source": [
    "# use the same metric for evaluation\n",
    "f1_scorer = make_scorer(metrics.flat_f1_score,\n",
    "                        average='macro', labels=labels)\n",
    "\n",
    "accuray_scorer = make_scorer(metrics.flat_accuracy_score,\n",
    "                        average='macro', labels=labels)"
   ]
  },
  {
   "cell_type": "code",
   "execution_count": 20,
   "metadata": {},
   "outputs": [],
   "source": [
    "def print_results(results):\n",
    "    print('BEST PARAMS: {}\\n'.format(results.best_params_))\n",
    "\n",
    "    test_means = results.cv_results_['mean_test_score']\n",
    "    test_stds = results.cv_results_['std_test_score']\n",
    "    \n",
    "    train_means = results.cv_results_['mean_train_score']\n",
    "    train_stds = results.cv_results_['std_train_score']\n",
    "    for mean, std, params in zip(means, stds, results.cv_results_['params']):\n",
    "        print('{} (+/-{}) for {}'.format(round(test_mean, 4), round(test_std * 2, 4), params))"
   ]
  },
  {
   "cell_type": "code",
   "execution_count": 14,
   "metadata": {},
   "outputs": [
    {
     "name": "stdout",
     "output_type": "stream",
     "text": [
      "Fitting 5 folds for each of 9 candidates, totalling 45 fits\n"
     ]
    },
    {
     "name": "stderr",
     "output_type": "stream",
     "text": [
      "[Parallel(n_jobs=-1)]: Using backend LokyBackend with 4 concurrent workers.\n",
      "[Parallel(n_jobs=-1)]: Done  45 out of  45 | elapsed:  1.3min finished\n"
     ]
    },
    {
     "name": "stdout",
     "output_type": "stream",
     "text": [
      "BEST PARAMS: {'c1': 0.1, 'c2': 0.01}\n",
      "\n",
      "0.9487 (+/-0.0541) for {'c1': 0.01, 'c2': 0.01}\n",
      "0.9344 (+/-0.0658) for {'c1': 0.01, 'c2': 0.2}\n",
      "0.9105 (+/-0.0675) for {'c1': 0.01, 'c2': 1}\n",
      "0.9576 (+/-0.0554) for {'c1': 0.1, 'c2': 0.01}\n",
      "0.9382 (+/-0.0625) for {'c1': 0.1, 'c2': 0.2}\n",
      "0.9085 (+/-0.0642) for {'c1': 0.1, 'c2': 1}\n",
      "0.9432 (+/-0.0594) for {'c1': 0, 'c2': 0.01}\n",
      "0.9338 (+/-0.0662) for {'c1': 0, 'c2': 0.2}\n",
      "0.9106 (+/-0.0681) for {'c1': 0, 'c2': 1}\n"
     ]
    }
   ],
   "source": [
    "cv = GridSearchCV(crf, parameters,\n",
    "                  cv=5,\n",
    "                  verbose=1,\n",
    "                  n_jobs=-1,\n",
    "                  scoring=f1_scorer)\n",
    "cv.fit(X_train, y_train)"
   ]
  },
  {
   "cell_type": "code",
   "execution_count": 21,
   "metadata": {},
   "outputs": [
    {
     "name": "stdout",
     "output_type": "stream",
     "text": [
      "BEST PARAMS: {'c1': 0.1, 'c2': 0.01}\n",
      "\n"
     ]
    },
    {
     "ename": "KeyError",
     "evalue": "'mean_train_score'",
     "output_type": "error",
     "traceback": [
      "\u001b[0;31m---------------------------------------------------------------------------\u001b[0m",
      "\u001b[0;31mKeyError\u001b[0m                                  Traceback (most recent call last)",
      "\u001b[0;32m<ipython-input-21-ec90e0c4d014>\u001b[0m in \u001b[0;36m<module>\u001b[0;34m\u001b[0m\n\u001b[0;32m----> 1\u001b[0;31m \u001b[0mprint_results\u001b[0m\u001b[0;34m(\u001b[0m\u001b[0mcv\u001b[0m\u001b[0;34m)\u001b[0m\u001b[0;34m\u001b[0m\u001b[0;34m\u001b[0m\u001b[0m\n\u001b[0m",
      "\u001b[0;32m<ipython-input-20-54cd2cdc1db3>\u001b[0m in \u001b[0;36mprint_results\u001b[0;34m(results)\u001b[0m\n\u001b[1;32m      5\u001b[0m     \u001b[0mtest_stds\u001b[0m \u001b[0;34m=\u001b[0m \u001b[0mresults\u001b[0m\u001b[0;34m.\u001b[0m\u001b[0mcv_results_\u001b[0m\u001b[0;34m[\u001b[0m\u001b[0;34m'std_test_score'\u001b[0m\u001b[0;34m]\u001b[0m\u001b[0;34m\u001b[0m\u001b[0;34m\u001b[0m\u001b[0m\n\u001b[1;32m      6\u001b[0m \u001b[0;34m\u001b[0m\u001b[0m\n\u001b[0;32m----> 7\u001b[0;31m     \u001b[0mtrain_means\u001b[0m \u001b[0;34m=\u001b[0m \u001b[0mresults\u001b[0m\u001b[0;34m.\u001b[0m\u001b[0mcv_results_\u001b[0m\u001b[0;34m[\u001b[0m\u001b[0;34m'mean_train_score'\u001b[0m\u001b[0;34m]\u001b[0m\u001b[0;34m\u001b[0m\u001b[0;34m\u001b[0m\u001b[0m\n\u001b[0m\u001b[1;32m      8\u001b[0m     \u001b[0mtrain_stds\u001b[0m \u001b[0;34m=\u001b[0m \u001b[0mresults\u001b[0m\u001b[0;34m.\u001b[0m\u001b[0mcv_results_\u001b[0m\u001b[0;34m[\u001b[0m\u001b[0;34m'std_train_score'\u001b[0m\u001b[0;34m]\u001b[0m\u001b[0;34m\u001b[0m\u001b[0;34m\u001b[0m\u001b[0m\n\u001b[1;32m      9\u001b[0m     \u001b[0;32mfor\u001b[0m \u001b[0mmean\u001b[0m\u001b[0;34m,\u001b[0m \u001b[0mstd\u001b[0m\u001b[0;34m,\u001b[0m \u001b[0mparams\u001b[0m \u001b[0;32min\u001b[0m \u001b[0mzip\u001b[0m\u001b[0;34m(\u001b[0m\u001b[0mmeans\u001b[0m\u001b[0;34m,\u001b[0m \u001b[0mstds\u001b[0m\u001b[0;34m,\u001b[0m \u001b[0mresults\u001b[0m\u001b[0;34m.\u001b[0m\u001b[0mcv_results_\u001b[0m\u001b[0;34m[\u001b[0m\u001b[0;34m'params'\u001b[0m\u001b[0;34m]\u001b[0m\u001b[0;34m)\u001b[0m\u001b[0;34m:\u001b[0m\u001b[0;34m\u001b[0m\u001b[0;34m\u001b[0m\u001b[0m\n",
      "\u001b[0;31mKeyError\u001b[0m: 'mean_train_score'"
     ]
    }
   ],
   "source": [
    "print_results(cv)"
   ]
  },
  {
   "cell_type": "code",
   "execution_count": 22,
   "metadata": {},
   "outputs": [
    {
     "name": "stdout",
     "output_type": "stream",
     "text": [
      "[0.89543544 0.87034858 0.84383709 0.90224403 0.87647432 0.84587664\n",
      " 0.88549086 0.86951627 0.84331441]\n"
     ]
    }
   ],
   "source": [
    "print(cv.cv_results_['split0_test_score'])"
   ]
  },
  {
   "cell_type": "code",
   "execution_count": 23,
   "metadata": {},
   "outputs": [
    {
     "name": "stdout",
     "output_type": "stream",
     "text": [
      "{'mean_fit_time': array([6.43063798, 7.12825656, 4.98480368, 8.39421525, 6.51286116,\n",
      "       4.42350392, 7.58642888, 6.23205104, 4.2635829 ]), 'std_fit_time': array([0.37580038, 0.67485733, 0.37262965, 0.56785963, 0.68536766,\n",
      "       0.43292632, 0.26498371, 0.32461095, 0.26660817]), 'mean_score_time': array([0.13861952, 0.16821918, 0.16372528, 0.1489419 , 0.14946804,\n",
      "       0.14990993, 0.16099858, 0.15844607, 0.14244075]), 'std_score_time': array([0.01638995, 0.03601434, 0.03095105, 0.02112651, 0.02711854,\n",
      "       0.02103823, 0.02030916, 0.02098811, 0.02754041]), 'param_c1': masked_array(data=[0.01, 0.01, 0.01, 0.1, 0.1, 0.1, 0, 0, 0],\n",
      "             mask=[False, False, False, False, False, False, False, False,\n",
      "                   False],\n",
      "       fill_value='?',\n",
      "            dtype=object), 'param_c2': masked_array(data=[0.01, 0.2, 1, 0.01, 0.2, 1, 0.01, 0.2, 1],\n",
      "             mask=[False, False, False, False, False, False, False, False,\n",
      "                   False],\n",
      "       fill_value='?',\n",
      "            dtype=object), 'params': [{'c1': 0.01, 'c2': 0.01}, {'c1': 0.01, 'c2': 0.2}, {'c1': 0.01, 'c2': 1}, {'c1': 0.1, 'c2': 0.01}, {'c1': 0.1, 'c2': 0.2}, {'c1': 0.1, 'c2': 1}, {'c1': 0, 'c2': 0.01}, {'c1': 0, 'c2': 0.2}, {'c1': 0, 'c2': 1}], 'split0_test_score': array([0.89543544, 0.87034858, 0.84383709, 0.90224403, 0.87647432,\n",
      "       0.84587664, 0.88549086, 0.86951627, 0.84331441]), 'split1_test_score': array([0.96703659, 0.95886594, 0.93126684, 0.97214264, 0.95791662,\n",
      "       0.92806981, 0.96446529, 0.9577637 , 0.9314905 ]), 'split2_test_score': array([0.95384987, 0.93678984, 0.92248025, 0.97182795, 0.94387705,\n",
      "       0.91503261, 0.94456314, 0.93546279, 0.92258966]), 'split3_test_score': array([0.96079456, 0.95019491, 0.93424709, 0.96959992, 0.95680026,\n",
      "       0.93538781, 0.95795303, 0.9501606 , 0.93457045]), 'split4_test_score': array([0.96630042, 0.95564874, 0.92075815, 0.97210123, 0.95576181,\n",
      "       0.91797394, 0.96353387, 0.95615807, 0.92126195]), 'mean_test_score': array([0.94868337, 0.9343696 , 0.91051789, 0.95758315, 0.93816601,\n",
      "       0.90846816, 0.94320124, 0.93381229, 0.91064539]), 'std_test_score': array([0.0270404 , 0.03288727, 0.03372798, 0.02768569, 0.03125832,\n",
      "       0.03212489, 0.02971711, 0.03309675, 0.03404634]), 'rank_test_score': array([2, 5, 8, 1, 4, 9, 3, 6, 7], dtype=int32)}\n"
     ]
    }
   ],
   "source": [
    "print(cv.cv_results_)"
   ]
  },
  {
   "cell_type": "code",
   "execution_count": 23,
   "metadata": {},
   "outputs": [
    {
     "data": {
      "text/plain": [
       "['./models/crf_model.pkl']"
      ]
     },
     "execution_count": 23,
     "metadata": {},
     "output_type": "execute_result"
    }
   ],
   "source": [
    "joblib.dump(cv.best_estimator_, './models/crf_model.pkl')"
   ]
  },
  {
   "cell_type": "code",
   "execution_count": null,
   "metadata": {},
   "outputs": [],
   "source": []
  },
  {
   "cell_type": "code",
   "execution_count": 24,
   "metadata": {},
   "outputs": [],
   "source": [
    "crf_tagger = joblib.load('./models/crf_model.pkl')"
   ]
  },
  {
   "cell_type": "code",
   "execution_count": 35,
   "metadata": {},
   "outputs": [],
   "source": [
    "start = time()\n",
    "pred_val = crf_tagger.predict(X_val)\n",
    "end = time()"
   ]
  },
  {
   "cell_type": "code",
   "execution_count": 42,
   "metadata": {},
   "outputs": [],
   "source": [
    "f1score = round(metrics.flat_f1_score(y_val, pred_val,\n",
    "                               average='macro', labels=labels), 4)\n",
    "\n",
    "accuracy = round(metrics.flat_accuracy_score(y_val, pred_val), 4)\n",
    "\n",
    "precision = round(metrics.flat_precision_score(y_val, pred_val,\n",
    "                      average='macro', labels=labels), 4)\n",
    "\n",
    "recall = round(metrics.flat_recall_score(y_val, pred_val,\n",
    "                      average='macro', labels=labels), 4)\n"
   ]
  },
  {
   "cell_type": "code",
   "execution_count": 43,
   "metadata": {},
   "outputs": [
    {
     "name": "stdout",
     "output_type": "stream",
     "text": [
      "F1-Score: 0.9663 \n",
      "Accuracy: 0.9593 \n",
      "Precision: 0.9829 \n",
      "Recall: 0.9531 \n",
      "Latency: 155.6ms\n"
     ]
    }
   ],
   "source": [
    "print('F1-Score: {} '.format(f1score))\n",
    "print('Accuracy: {} '.format(accuracy))\n",
    "print('Precision: {} '.format(precision))\n",
    "print('Recall: {} '.format(recall))\n",
    "print('Latency: {}ms'.format(round((end - start)*1000, 1)))"
   ]
  },
  {
   "cell_type": "markdown",
   "metadata": {},
   "source": [
    "### confusion matrix"
   ]
  },
  {
   "cell_type": "code",
   "execution_count": 46,
   "metadata": {},
   "outputs": [],
   "source": [
    "#print(classification_report(y_val, pred_val, target_names=corpus['tag'].unique()))\n",
    "clf_report = metrics.flat_classification_report(y_val, \n",
    "                                   pred_val, \n",
    "                                   target_names=sorted(labels),\n",
    "                                   labels=sorted(labels),\n",
    "                                   output_dict=True)"
   ]
  },
  {
   "cell_type": "code",
   "execution_count": 47,
   "metadata": {},
   "outputs": [
    {
     "data": {
      "text/plain": [
       "<Figure size 432x288 with 0 Axes>"
      ]
     },
     "metadata": {},
     "output_type": "display_data"
    }
   ],
   "source": [
    "sns.set('paper', 'white',\n",
    "        rc={'font.size': 10, 'axes.labelsize': 10,\n",
    "            'legend.fontsize': 10, 'axes.titlesize': 10,\n",
    "            'xtick.labelsize': 10,'ytick.labelsize': 10, \n",
    "            \"pgf.rcfonts\": True,\n",
    "           })\n",
    "plt.rc('font', **{'family': 'serif', 'serif': ['Times']})\n",
    "plt.tight_layout()\n",
    "plt.gcf().subplots_adjust(bottom=0.15)\n",
    "from matplotlib import rcParams\n",
    "rcParams.update({'figure.autolayout': True})"
   ]
  },
  {
   "cell_type": "code",
   "execution_count": 97,
   "metadata": {},
   "outputs": [
    {
     "data": {
      "image/png": "[encoded data removed]",
      "text/plain": [
       "<Figure size 360x288 with 2 Axes>"
      ]
     },
     "metadata": {},
     "output_type": "display_data"
    }
   ],
   "source": [
    "plt.figure(figsize=(5, 4))\n",
    "fig = sns.heatmap(pd.DataFrame(clf_report).iloc[:-1, :].T,\n",
    "                  annot=True, annot_kws={'size': 10},\n",
    "                  cbar=1,\n",
    "                  linewidths=0,\n",
    "                  linecolor='white',\n",
    "                  cmap=\"YlGnBu\"\n",
    "                  )\n"
   ]
  },
  {
   "cell_type": "code",
   "execution_count": 98,
   "metadata": {},
   "outputs": [],
   "source": [
    "f = fig.get_figure()\n",
    "f.autolayout : True\n",
    "f.savefig('crf_matrix1.png', dpi=400)"
   ]
  },
  {
   "cell_type": "markdown",
   "metadata": {},
   "source": [
    "### second\n"
   ]
  },
  {
   "cell_type": "code",
   "execution_count": 75,
   "metadata": {},
   "outputs": [],
   "source": [
    "from sklearn.metrics import confusion_matrix\n",
    "from cf_matrix import make_confusion_matrix\n",
    "categories = sorted(labels)"
   ]
  },
  {
   "cell_type": "code",
   "execution_count": 86,
   "metadata": {},
   "outputs": [],
   "source": [
    "from itertools import chain\n",
    "f_y_val = list(chain.from_iterable(y_val))\n",
    "f_pred_val = list(chain.from_iterable(pred_val))"
   ]
  },
  {
   "cell_type": "code",
   "execution_count": 89,
   "metadata": {},
   "outputs": [],
   "source": [
    "confusion_matrix = confusion_matrix(f_y_val, f_pred_val, normalize='true', labels=categories)"
   ]
  },
  {
   "cell_type": "code",
   "execution_count": 90,
   "metadata": {},
   "outputs": [],
   "source": [
    "vminn = np.min(confusion_matrix)\n",
    "vmaxx = np.max(confusion_matrix)"
   ]
  },
  {
   "cell_type": "code",
   "execution_count": 116,
   "metadata": {},
   "outputs": [
    {
     "data": {
      "text/plain": [
       "Text(0.5, 6.799999999999994, 'Predicted')"
      ]
     },
     "execution_count": 116,
     "metadata": {},
     "output_type": "execute_result"
    },
    {
     "data": {
      "image/png": "[encoded data removed]",
      "text/plain": [
       "<Figure size 432x360 with 2 Axes>"
      ]
     },
     "metadata": {},
     "output_type": "display_data"
    }
   ],
   "source": [
    "plt.figure(figsize=(6, 5))\n",
    "fig = sns.heatmap(confusion_matrix,\n",
    "                  annot=False, annot_kws={'size': 10},\n",
    "                  vmax=vmaxx,\n",
    "                  vmin=vminn,\n",
    "                  cbar=True,\n",
    "                  linewidths=0,\n",
    "                  linecolor='white',\n",
    "                  cmap=\"YlGnBu\",\n",
    "                  #fmt='',\n",
    "                  xticklabels=categories,\n",
    "                  yticklabels=categories,\n",
    "                  #cbar_kws={'ticks':[]}\n",
    "                  )\n",
    "plt.ylabel('True')\n",
    "plt.xlabel('Predicted')\n",
    "\n",
    "#cbar = fig.collections[0].colorbar\n",
    "#cbar.set_ticks([0, .2, .4, .6, .8, 1])\n",
    "#cbar.set_ticklabels(['0.0', '0.2', '0.4', '0.6', '0.8', '1.0'])\n",
    "\n"
   ]
  },
  {
   "cell_type": "code",
   "execution_count": 117,
   "metadata": {},
   "outputs": [],
   "source": [
    "f = fig.get_figure()\n",
    "f.autolayout : True\n",
    "f.savefig('crf_matrix2.png', dpi=400)"
   ]
  },
  {
   "cell_type": "code",
   "execution_count": null,
   "metadata": {},
   "outputs": [],
   "source": []
  },
  {
   "cell_type": "code",
   "execution_count": null,
   "metadata": {},
   "outputs": [],
   "source": []
  }
 ],
 "metadata": {
  "kernelspec": {
   "display_name": "Python 3",
   "language": "python",
   "name": "python3"
  },
  "language_info": {
   "codemirror_mode": {
    "name": "ipython",
    "version": 3
   },
   "file_extension": ".py",
   "mimetype": "text/x-python",
   "name": "python",
   "nbconvert_exporter": "python",
   "pygments_lexer": "ipython3",
   "version": "3.8.4"
  }
 },
 "nbformat": 4,
 "nbformat_minor": 4
}
